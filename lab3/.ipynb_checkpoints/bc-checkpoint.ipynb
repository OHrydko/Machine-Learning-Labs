{
 "cells": [
  {
   "cell_type": "code",
   "execution_count": 1,
   "metadata": {},
   "outputs": [],
   "source": [
    "import numpy as np\n",
    "import pandas as pd\n",
    "import random\n",
    "import math"
   ]
  },
  {
   "cell_type": "code",
   "execution_count": 6,
   "metadata": {},
   "outputs": [
    {
     "name": "stdout",
     "output_type": "stream",
     "text": [
      "Split 11 rows into train=10 and test=1 rows\n",
      "{0: [(0.4, 0.6), (0.8, 0.19999999999999996)], 1: [(0.6, 0.4), (0.0, 1.0)]}\n",
      "[1, 0, 0]\n"
     ]
    }
   ],
   "source": [
    "data = [[1,1,0],[0,1,0],[0,1,0],[0,1,0],[1,0,0],[0,0,1],[1,0,1],[1,0,1],[1,0,1],[0,0,1], [1,0,0]]\n",
    "\n",
    "def splitDataset(dataset, splitRatio):\n",
    "    trainSize = int(len(dataset) * splitRatio)\n",
    "    trainSet = []\n",
    "    copy = list(dataset)\n",
    "    while len(trainSet) < trainSize:\n",
    "        index = random.randrange(len(copy))\n",
    "        trainSet.append(copy.pop(index))\n",
    "    return [trainSet, copy]\n",
    "\n",
    "\n",
    "def separateByClass(dataset):\n",
    "    separated = {}\n",
    "    for i in range(len(dataset)):\n",
    "        vector = dataset[i]\n",
    "        if (vector[-1] not in separated):\n",
    "            separated[vector[-1]] = []\n",
    "        separated[vector[-1]].append(vector)\n",
    "    return separated\n",
    "\n",
    "def summarizeByClass(dataset):\n",
    "    separated = separateByClass(dataset)\n",
    "    summaries = {}\n",
    "    for classValue, instances in separated.items():\n",
    "#         print(classValue, instances)\n",
    "        summaries[classValue] = summarize(instances)\n",
    "        \n",
    "    return summaries\n",
    "def probability(row):\n",
    "    count = 0\n",
    "    for i in row:\n",
    "        if i == 1:\n",
    "            count += 1\n",
    "    prob = count/len(row) \n",
    "    return prob, 1 - prob\n",
    "    \n",
    "def summarize(dataset):\n",
    "    summaries = [probability(attribute) for attribute in zip(*dataset)]\n",
    "    del summaries[-1]\n",
    "    return summaries\n",
    "\n",
    "def calculateProbability(x, mean, stdev):\n",
    "#     print(x, mean, stdev)\n",
    "    if stdev > 0: \n",
    "        exponent = math.exp(-(math.pow(x-mean,2)/(2*math.pow(stdev,2))))\n",
    "        return (1 / (math.sqrt(2*math.pi) * stdev)) * exponent\n",
    "    else: \n",
    "        return 0.5 \n",
    "    \n",
    "def calculateClassProbabilities(summaries, inputVector):\n",
    "    print(inputVector)\n",
    "    probabilities = {}\n",
    "    for classValue, classSummaries in summaries.items():\n",
    "        probabilities[classValue] = 1\n",
    "        for i in range(len(classSummaries)):\n",
    "            mean, stdev = classSummaries[i]\n",
    "            x = inputVector[i]\n",
    "            probabilities[classValue] *= calculateProbability(x, mean, stdev)\n",
    "#     print(probabilities)\n",
    "    return probabilities\n",
    "            \n",
    "def predict(summaries, inputVector):\n",
    "    probabilities = calculateClassProbabilities(summaries, inputVector)\n",
    "    bestLabel, bestProb = None, -1\n",
    "    for classValue, probability in probabilities.items():\n",
    "        if bestLabel is None or probability > bestProb:\n",
    "            bestProb = probability\n",
    "            bestLabel = classValue\n",
    "    return bestLabel\n",
    "\n",
    "def getPredictions(summaries, testSet):\n",
    "    predictions = []\n",
    "    for i in range(len(testSet)):\n",
    "        result = predict(summaries, testSet[i])\n",
    "        predictions.append(result)\n",
    "    return predictions\n",
    "\n",
    "# summarizeByClass(data)\n",
    "trainingSet, testSet = data[:10],data[10:] \n",
    "print('Split {0} rows into train={1} and test={2} rows'.format(len(data), len(trainingSet), len(testSet)))\n",
    "summaries = summarizeByClass(trainingSet)\n",
    "print(summaries)\n",
    "predictions = getPredictions(summaries, testSet)"
   ]
  },
  {
   "cell_type": "code",
   "execution_count": null,
   "metadata": {},
   "outputs": [],
   "source": []
  }
 ],
 "metadata": {
  "kernelspec": {
   "display_name": "Python 3",
   "language": "python",
   "name": "python3"
  },
  "language_info": {
   "codemirror_mode": {
    "name": "ipython",
    "version": 3
   },
   "file_extension": ".py",
   "mimetype": "text/x-python",
   "name": "python",
   "nbconvert_exporter": "python",
   "pygments_lexer": "ipython3",
   "version": "3.8.3"
  }
 },
 "nbformat": 4,
 "nbformat_minor": 4
}
