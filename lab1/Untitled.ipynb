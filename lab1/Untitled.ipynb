{
 "cells": [
  {
   "cell_type": "code",
   "execution_count": 1,
   "metadata": {},
   "outputs": [],
   "source": [
    "import numpy as np\n",
    "import pandas as pd\n",
    "import matplotlib.pyplot as plt\n",
    "import scipy.stats as sts"
   ]
  },
  {
   "cell_type": "code",
   "execution_count": 7,
   "metadata": {},
   "outputs": [
    {
     "data": {
      "text/html": [
       "<div>\n",
       "<style scoped>\n",
       "    .dataframe tbody tr th:only-of-type {\n",
       "        vertical-align: middle;\n",
       "    }\n",
       "\n",
       "    .dataframe tbody tr th {\n",
       "        vertical-align: top;\n",
       "    }\n",
       "\n",
       "    .dataframe thead th {\n",
       "        text-align: right;\n",
       "    }\n",
       "</style>\n",
       "<table border=\"1\" class=\"dataframe\">\n",
       "  <thead>\n",
       "    <tr style=\"text-align: right;\">\n",
       "      <th></th>\n",
       "      <th>x0</th>\n",
       "      <th>x1</th>\n",
       "      <th>x2</th>\n",
       "      <th>x3</th>\n",
       "      <th>x4</th>\n",
       "      <th>x5</th>\n",
       "      <th>y</th>\n",
       "    </tr>\n",
       "  </thead>\n",
       "  <tbody>\n",
       "    <tr>\n",
       "      <th>0</th>\n",
       "      <td>2114.97</td>\n",
       "      <td>56.1939</td>\n",
       "      <td>97.7716</td>\n",
       "      <td>3601.37</td>\n",
       "      <td>27</td>\n",
       "      <td>39.8544</td>\n",
       "      <td>17.395</td>\n",
       "    </tr>\n",
       "    <tr>\n",
       "      <th>1</th>\n",
       "      <td>1164.74</td>\n",
       "      <td>45.0019</td>\n",
       "      <td>63.9749</td>\n",
       "      <td>2026.36</td>\n",
       "      <td>22</td>\n",
       "      <td>42.8624</td>\n",
       "      <td>2.375</td>\n",
       "    </tr>\n",
       "    <tr>\n",
       "      <th>2</th>\n",
       "      <td>2192.61</td>\n",
       "      <td>55.3350</td>\n",
       "      <td>93.4638</td>\n",
       "      <td>3336.69</td>\n",
       "      <td>25</td>\n",
       "      <td>38.2677</td>\n",
       "      <td>12.987</td>\n",
       "    </tr>\n",
       "    <tr>\n",
       "      <th>3</th>\n",
       "      <td>1168.13</td>\n",
       "      <td>53.4750</td>\n",
       "      <td>63.4258</td>\n",
       "      <td>2812.04</td>\n",
       "      <td>17</td>\n",
       "      <td>39.8232</td>\n",
       "      <td>5.562</td>\n",
       "    </tr>\n",
       "    <tr>\n",
       "      <th>4</th>\n",
       "      <td>2124.26</td>\n",
       "      <td>62.2165</td>\n",
       "      <td>90.9051</td>\n",
       "      <td>2420.26</td>\n",
       "      <td>68</td>\n",
       "      <td>39.9775</td>\n",
       "      <td>14.014</td>\n",
       "    </tr>\n",
       "  </tbody>\n",
       "</table>\n",
       "</div>"
      ],
      "text/plain": [
       "        x0       x1       x2       x3  x4       x5       y\n",
       "0  2114.97  56.1939  97.7716  3601.37  27  39.8544  17.395\n",
       "1  1164.74  45.0019  63.9749  2026.36  22  42.8624   2.375\n",
       "2  2192.61  55.3350  93.4638  3336.69  25  38.2677  12.987\n",
       "3  1168.13  53.4750  63.4258  2812.04  17  39.8232   5.562\n",
       "4  2124.26  62.2165  90.9051  2420.26  68  39.9775  14.014"
      ]
     },
     "execution_count": 7,
     "metadata": {},
     "output_type": "execute_result"
    }
   ],
   "source": [
    "df = pd.read_csv('https://raw.githubusercontent.com/OHrydko/Machine-Learning-Labs/master/lab1/MP-07-Hrydko.csv', \n",
    "                 header=0, names=['x0', 'x1', 'x2', 'x3', 'x4', 'x5', 'y'], sep=';',engine='python')\n",
    "df.head()"
   ]
  },
  {
   "cell_type": "code",
   "execution_count": 16,
   "metadata": {},
   "outputs": [
    {
     "name": "stdout",
     "output_type": "stream",
     "text": [
      "Значення розподілу t = 1.65 при параметрах alpha = 0.9 & p = 191 при\n",
      "b0 = -2.91 значущий True значення t роподілу = 1.86 \n",
      "b1 = 15.48 значущий True значення t роподілу = 2.07 \n",
      "b2 = 20.04 значущий True значення t роподілу = 3.1 \n",
      "b3 = -44.38 значущий True значення t роподілу = 5.94 \n",
      "b4 = 19.24 значущий True значення t роподілу = 1.69 \n",
      "b5 = -16.93 значущий True значення t роподілу = 2.24 \n",
      "b6 = 9.82 значущий True значення t роподілу = 3.93 \n",
      "b7 = -5.29 значущий False значення t роподілу = 0.71 \n",
      "Коефіцієнт детермінації R = 0.85, R^2 = 0.72,оцінка дисперції s^2 = 25.62\n"
     ]
    }
   ],
   "source": [
    "df[df.columns[:-1]] = df[df.columns[:-1]]/df[df.columns[:-1]].max()\n",
    "train = df.iloc[:200]\n",
    "# визначення параметрів\n",
    "system_len = len(train.columns)\n",
    "alpha = 0.9\n",
    "# знаходження коефіцієнтів\n",
    "matrix_x = train[train.columns[:-1]].values\n",
    "\n",
    "solve = np.dot(np.dot(np.linalg.inv(np.dot(np.transpose(matrix_x), matrix_x)), np.transpose(matrix_x)), train['y'].values)\n",
    "# Оцінка статистичної значимості коефіцієнтів\n",
    "# Відхилення\n",
    "q_e = (train['y'] - (train[train.columns[:-1]] * solve).sum(axis = 1))\n",
    "# Оцінка дисперсії\n",
    "s_2 = (q_e**2).sum()/(len(train) - system_len)\n",
    "# Коефіцієнти зв'язку\n",
    "K_coef = np.sqrt(np.diag(s_2 * np.linalg.inv(np.dot(np.transpose(matrix_x), matrix_x))))\n",
    "\n",
    "t_student = round(sts.t.ppf((1 + alpha)/2, len(train) - system_len), 2)\n",
    "t_calculated = (np.absolute(solve)/K_coef).round(2)\n",
    "weight_coef = t_calculated > t_student\n",
    "\n",
    "# Розрахунок коефіцієнта множинної детермінації\n",
    "R = round(np.sqrt((np.dot(np.dot(np.transpose(solve), np.transpose(matrix_x)), train['y'].values) -\n",
    "             len(train) * train['y'].mean())/\\\n",
    "    (np.dot(np.transpose(train['y'].values), train['y'].values) - len(train) * train['y'].mean())), 2)\n",
    "print('Значення розподілу t = {} при параметрах alpha = {} & p = {} при'.format(t_student, alpha, len(train) - system_len))\n",
    "for i in range(len(solve)):\n",
    "    print('b{} = {} значущий {} значення t роподілу = {} '\n",
    "          .format(i, round(solve[i], 2), weight_coef[i], t_calculated[i]))\n",
    "print('Коефіцієнт детермінації R = {}, R^2 = {},оцінка дисперції s^2 = {}'.format(R, round(R**2, 2), round(s_2, 2)))"
   ]
  },
  {
   "cell_type": "code",
   "execution_count": null,
   "metadata": {},
   "outputs": [],
   "source": []
  }
 ],
 "metadata": {
  "kernelspec": {
   "display_name": "Python 3",
   "language": "python",
   "name": "python3"
  },
  "language_info": {
   "codemirror_mode": {
    "name": "ipython",
    "version": 3
   },
   "file_extension": ".py",
   "mimetype": "text/x-python",
   "name": "python",
   "nbconvert_exporter": "python",
   "pygments_lexer": "ipython3",
   "version": "3.8.3"
  }
 },
 "nbformat": 4,
 "nbformat_minor": 4
}
