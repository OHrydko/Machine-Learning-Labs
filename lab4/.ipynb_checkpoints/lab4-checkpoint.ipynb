{
 "cells": [
  {
   "cell_type": "code",
   "execution_count": 72,
   "metadata": {},
   "outputs": [],
   "source": [
    "import numpy as np\n",
    "import pandas as pd\n",
    "import matplotlib.pyplot as plt\n",
    "from scipy.cluster.hierarchy import dendrogram\n",
    "from sklearn.cluster import KMeans, AgglomerativeClustering"
   ]
  },
  {
   "cell_type": "code",
   "execution_count": 73,
   "metadata": {},
   "outputs": [
    {
     "name": "stdout",
     "output_type": "stream",
     "text": [
      "250\n"
     ]
    }
   ],
   "source": [
    "df = pd.read_csv('https://raw.githubusercontent.com/OHrydko/Machine-Learning-Labs/master/lab1/MP-07-Hrydko.csv', \n",
    "                 header= None, names=['x0', 'x1', 'x2', 'x3', 'x4', 'x5', 'y'], sep=';',engine='python')\n",
    "df.head()\n",
    "X = df[df.columns[:-1]].values\n",
    "list_clusters = [2, 3]\n",
    "print(len(X))"
   ]
  },
  {
   "cell_type": "code",
   "execution_count": 74,
   "metadata": {},
   "outputs": [
    {
     "name": "stdout",
     "output_type": "stream",
     "text": [
      "[[2253.07795322   76.8933193   109.74494386 3381.59660819   48.73099415\n",
      "    37.37245556]\n",
      " [4921.96139241  170.09387722  236.35039241 5193.2343038   124.73417722\n",
      "    27.61463544]]\n",
      "[1 0 0 0 0 0 0 0 0 0 1 1 0 1 0 0 0 0 0 0 0 0 0 0 1 0 0 1 1 1 0 1 1 0 1 0 0\n",
      " 0 0 0 0 0 1 0 0 1 0 1 0 0 1 1 0 0 0 0 0 1 0 0 0 0 0 0 0 0 1 1 1 0 0 0 0 0\n",
      " 0 0 0 1 1 1 0 0 1 0 0 1 0 0 1 0 0 1 0 1 0 0 0 1 1 0 0 0 0 0 0 0 0 0 1 0 0\n",
      " 1 0 0 1 0 1 0 0 0 0 0 0 0 0 1 0 1 0 0 0 0 1 0 0 1 1 1 1 1 1 1 1 0 0 0 0 1\n",
      " 0 0 0 1 0 1 0 1 0 0 1 0 0 1 0 1 0 1 0 0 0 1 1 0 0 0 1 0 1 1 1 1 1 0 0 1 0\n",
      " 0 0 1 0 0 0 1 0 0 0 1 1 0 0 0 0 0 0 1 1 0 0 0 1 0 0 0 1 0 1 0 0 0 0 0 0 1\n",
      " 0 0 0 0 0 0 0 1 0 0 1 1 0 0 0 0 1 0 1 0 0 0 0 1 1 0 0 0]\n",
      "[[3715.42907216  133.82958454  183.05297423 4447.04226804   88.13402062\n",
      "    31.22138763]\n",
      " [1946.08650794   65.50826508   94.80112619 3133.51055556   41.67460317\n",
      "    38.73099603]\n",
      " [6241.02814815  198.1726963   286.55503704 6012.33703704  162.48148148\n",
      "    24.58022222]]\n",
      "[2 1 1 1 1 1 0 0 0 1 2 0 1 0 1 1 1 1 1 0 1 0 0 1 0 1 1 0 0 0 1 0 0 0 0 1 1\n",
      " 1 1 0 1 0 0 1 1 2 1 2 1 1 0 0 1 1 1 1 1 0 1 1 1 1 1 0 1 1 2 2 2 1 1 1 0 1\n",
      " 0 0 1 0 2 0 1 1 0 0 1 0 1 1 2 0 1 0 0 2 0 1 1 0 0 0 0 1 1 1 0 1 1 1 2 1 1\n",
      " 2 1 0 0 1 2 0 0 1 1 1 1 0 1 0 1 0 1 1 1 0 0 0 0 0 2 2 0 0 0 0 0 1 1 1 0 0\n",
      " 1 1 1 0 1 0 1 2 1 0 2 1 1 0 1 0 0 0 1 1 0 2 2 1 1 1 0 0 0 0 2 0 2 0 1 0 1\n",
      " 1 1 0 1 0 0 0 1 0 1 0 2 1 1 1 1 1 0 2 2 0 1 0 0 1 0 1 2 1 2 1 1 1 1 1 1 0\n",
      " 1 1 1 1 1 1 1 0 0 0 0 0 1 1 1 1 0 0 2 1 1 1 1 0 0 0 1 0]\n"
     ]
    }
   ],
   "source": [
    "#KMeans\n",
    "for cluster in list_clusters:\n",
    "    kmeans = KMeans(n_clusters = cluster).fit(X)\n",
    "    centers = kmeans.cluster_centers_\n",
    "    print(centers)\n",
    "    labels = kmeans.labels_\n",
    "    print(labels)"
   ]
  },
  {
   "cell_type": "code",
   "execution_count": 75,
   "metadata": {},
   "outputs": [
    {
     "name": "stdout",
     "output_type": "stream",
     "text": [
      "count of clusters = 2\n",
      "[0 1 1 1 1 1 0 0 0 1 0 0 1 0 0 1 1 1 0 0 1 0 0 1 0 1 1 0 0 0 1 0 0 0 0 0 1\n",
      " 1 1 0 1 0 0 1 1 0 1 0 1 1 0 0 1 1 0 0 1 0 1 1 1 0 1 0 1 1 0 0 0 1 1 0 0 1\n",
      " 0 0 1 0 0 0 1 1 0 0 1 0 1 1 0 0 0 0 0 0 0 1 1 0 0 0 0 1 1 0 0 1 1 1 0 0 1\n",
      " 0 1 0 0 1 0 0 0 1 1 1 1 0 0 0 1 0 0 1 1 0 0 0 0 0 0 0 0 0 0 0 0 1 0 0 0 0\n",
      " 1 0 0 0 1 0 0 0 1 0 0 1 1 0 1 0 0 0 1 1 0 0 0 1 1 1 0 0 0 0 0 0 0 0 1 0 1\n",
      " 0 1 0 1 0 0 0 1 0 1 0 0 1 1 1 1 1 0 0 0 0 0 0 0 1 0 0 0 1 0 1 0 1 1 1 1 0\n",
      " 1 1 1 1 1 1 1 0 0 0 0 0 1 1 1 1 0 0 0 1 1 0 1 0 0 0 1 0]\n",
      "count of clusters = 3\n",
      "[0 1 1 1 1 1 2 2 2 1 0 2 1 2 2 1 1 1 2 2 1 2 2 1 2 1 1 2 2 2 1 2 2 2 2 2 1\n",
      " 1 1 2 1 2 2 1 1 0 1 0 1 1 2 2 1 1 2 2 1 2 1 1 1 2 1 2 1 1 0 0 2 1 1 2 2 1\n",
      " 2 2 1 2 0 2 1 1 2 2 1 2 1 1 2 2 2 2 2 0 2 1 1 2 2 2 2 1 1 2 2 1 1 1 0 2 1\n",
      " 0 1 2 2 1 0 2 2 1 1 1 1 2 2 2 1 2 2 1 1 2 2 2 2 2 0 0 2 2 2 2 2 1 2 2 2 2\n",
      " 1 2 2 2 1 2 2 0 1 2 0 1 1 2 1 2 2 2 1 1 2 0 2 1 1 1 2 2 2 2 0 2 0 2 1 2 1\n",
      " 2 1 2 1 2 2 2 1 2 1 2 0 1 1 1 1 1 2 0 0 2 2 2 2 1 2 2 0 1 0 1 2 1 1 1 1 2\n",
      " 1 1 1 1 1 1 1 2 2 2 2 2 1 1 1 1 2 2 0 1 1 2 1 2 2 2 1 2]\n"
     ]
    }
   ],
   "source": [
    "#AgglomerativeClustering\n",
    "for cluster in list_clusters:\n",
    "    print('count of clusters = {}'.format(cluster))\n",
    "    clustering = AgglomerativeClustering(n_clusters = cluster).fit(X)\n",
    "    labels = clustering.labels_\n",
    "    print(labels)"
   ]
  },
  {
   "cell_type": "code",
   "execution_count": 76,
   "metadata": {},
   "outputs": [
    {
     "name": "stdout",
     "output_type": "stream",
     "text": [
      "count of clusters = 2\n",
      "[0 0 0 0 0 0 0 0 0 0 0 0 0 0 0 0 0 0 0 0 0 0 0 0 0 0 0 0 0 0 0 0 0 0 0 0 0\n",
      " 0 0 0 0 0 0 0 0 0 0 0 0 0 0 0 0 0 0 0 0 0 0 0 0 0 0 0 0 0 0 0 0 0 0 0 0 0\n",
      " 0 0 0 0 0 0 0 0 0 0 0 0 0 0 0 0 0 0 0 0 0 0 0 0 0 0 0 0 0 0 0 0 0 0 0 0 0\n",
      " 0 0 0 0 0 0 0 0 0 0 0 0 0 0 0 0 0 0 0 0 0 0 0 0 0 0 0 0 0 0 0 0 0 0 0 0 0\n",
      " 0 0 0 0 0 0 0 0 0 0 0 0 0 0 0 0 0 0 0 0 0 0 0 0 0 0 0 0 0 0 0 0 0 0 0 0 0\n",
      " 0 0 0 0 0 0 0 0 0 0 0 1 0 0 0 0 0 0 0 0 0 0 0 0 0 0 0 0 0 0 0 0 0 0 0 0 0\n",
      " 0 0 0 0 0 0 0 0 0 0 0 0 0 0 0 0 0 0 0 0 0 0 0 0 0 0 0 0]\n",
      "count of clusters = 3\n",
      "[0 2 2 2 2 2 2 2 2 2 0 0 2 0 2 2 2 2 2 2 2 2 2 2 0 2 2 0 0 0 2 0 0 2 0 2 2\n",
      " 2 2 2 2 2 0 2 2 0 2 0 2 2 0 0 2 2 2 2 2 0 2 2 2 2 2 2 2 2 0 0 0 2 2 2 2 2\n",
      " 2 2 2 0 0 0 2 2 0 2 2 0 2 2 0 2 2 0 2 0 2 2 2 0 0 0 2 2 2 2 2 2 2 2 0 2 2\n",
      " 0 2 2 0 2 0 2 2 2 2 2 2 2 2 0 2 0 2 2 2 2 0 2 2 0 0 0 0 2 0 0 0 2 2 2 2 0\n",
      " 2 2 2 0 2 0 2 0 2 2 0 2 2 0 2 0 2 0 2 2 2 0 0 2 2 2 0 2 0 0 0 0 0 2 2 0 2\n",
      " 2 2 0 2 2 2 0 2 2 2 0 1 2 2 2 2 2 2 0 0 2 2 2 0 2 2 2 0 2 0 2 2 2 2 2 2 2\n",
      " 2 2 2 2 2 2 2 0 2 2 0 0 2 2 2 2 0 2 0 2 2 2 2 0 0 2 2 2]\n"
     ]
    }
   ],
   "source": [
    "#AgglomerativeClustering \n",
    "for cluster in list_clusters:\n",
    "    print('count of clusters = {}'.format(cluster))\n",
    "    clustering = AgglomerativeClustering(n_clusters = cluster, linkage ='complete', affinity ='manhattan').fit(X)\n",
    "    labels = clustering.labels_\n",
    "    print(labels)"
   ]
  },
  {
   "cell_type": "code",
   "execution_count": 77,
   "metadata": {},
   "outputs": [],
   "source": [
    "def plot_dendrogram(model, **kwargs):\n",
    "    # Create linkage matrix and then plot the dendrogram\n",
    "\n",
    "    # create the counts of samples under each node\n",
    "    counts = np.zeros(model.children_.shape[0])\n",
    "    n_samples = len(model.labels_)\n",
    "    for i, merge in enumerate(model.children_):\n",
    "        current_count = 0\n",
    "        for child_idx in merge:\n",
    "            if child_idx < n_samples:\n",
    "                current_count += 1  # leaf node\n",
    "            else:\n",
    "                current_count += counts[child_idx - n_samples]\n",
    "        counts[i] = current_count\n",
    "\n",
    "    linkage_matrix = np.column_stack([model.children_, model.distances_,\n",
    "                                      counts]).astype(float)\n",
    "\n",
    "    # Plot the corresponding dendrogram\n",
    "    dendrogram(linkage_matrix, **kwargs)\n"
   ]
  },
  {
   "cell_type": "code",
   "execution_count": 83,
   "metadata": {},
   "outputs": [
    {
     "data": {
      "image/png": "[encoded data removed]",
      "text/plain": [
       "<Figure size 432x288 with 1 Axes>"
      ]
     },
     "metadata": {
      "needs_background": "light"
     },
     "output_type": "display_data"
    }
   ],
   "source": [
    "X = X[:100]\n",
    "\n",
    "model = AgglomerativeClustering(distance_threshold=0, n_clusters=None)\n",
    "\n",
    "model = model.fit(X)\n",
    "\n",
    "plt.title('Hierarchical Clustering Dendrogram')\n",
    "# plot the top three levels of the dendrogram\n",
    "plot_dendrogram(model, truncate_mode='level', p=3)\n",
    "plt.xlabel(\"Number of points in node (or index of point if no parenthesis).\")\n",
    "plt.show()"
   ]
  },
  {
   "cell_type": "code",
   "execution_count": null,
   "metadata": {},
   "outputs": [],
   "source": []
  }
 ],
 "metadata": {
  "kernelspec": {
   "display_name": "Python 3",
   "language": "python",
   "name": "python3"
  },
  "language_info": {
   "codemirror_mode": {
    "name": "ipython",
    "version": 3
   },
   "file_extension": ".py",
   "mimetype": "text/x-python",
   "name": "python",
   "nbconvert_exporter": "python",
   "pygments_lexer": "ipython3",
   "version": "3.8.3"
  }
 },
 "nbformat": 4,
 "nbformat_minor": 4
}
